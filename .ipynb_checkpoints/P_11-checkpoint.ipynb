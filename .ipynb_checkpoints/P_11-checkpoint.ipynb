{
 "cells": [
  {
   "cell_type": "markdown",
   "id": "e0e569e6-d438-433f-9375-e16c1b5d81ad",
   "metadata": {},
   "source": [
    "## E-Commerce Customer Segmentation\n",
    "\n",
    "### Project Overview\n",
    "* Customer segmentation using different clustering algorithms\n",
    "\n",
    "\n",
    "### Code and Resources Used \n",
    "**Python Version:** 3.7  \n",
    "**Packages:** pandas, numpy, matplotlib, seaborn, sklearn.\n",
    "\n",
    "### Dataset\n",
    "The dataset is taken from The UCI Machine Learning Repository (https://archive.ics.uci.edu/)  \n",
    "Dataset: https://archive.ics.uci.edu/dataset/352/online+retail \n",
    "\n",
    "### EDA\n",
    "* Features grouping and distribution analysis.\n",
    "* Continuous variables analysis against different groups.\n",
    "* Correlation analysis\n",
    "\n",
    "Below are notebook captures as examples of our analysis:  \n",
    "\n",
    "### Data preparation\n"
   ]
  },
  {
   "cell_type": "markdown",
   "id": "3caf62c5-bfcf-467b-ad25-6095b088ee26",
   "metadata": {},
   "source": [
    "### Notebook content:\n",
    "\n",
    "1. Exploratory Data Analysis\n",
    "2. Data Preparation\n",
    "3. Models Training, Evaluation and Error Analysis\n",
    "4. Conclusion"
   ]
  },
  {
   "cell_type": "markdown",
   "id": "f5b9e61a-0409-4f30-8019-c7cb9fc70ef5",
   "metadata": {},
   "source": [
    "### 1. Exploratory Data Analysis\n",
    "---"
   ]
  },
  {
   "cell_type": "code",
   "execution_count": 1,
   "id": "92db903e-a99d-4662-b6fa-771d0aecc461",
   "metadata": {
    "id": "UMeP18cIxUtA"
   },
   "outputs": [],
   "source": [
    "import numpy as np\n",
    "import pandas as pd\n",
    "\n",
    "from sklearn.cluster import KMeans\n",
    "from sklearn.metrics import silhouette_score\n",
    "from sklearn.preprocessing import StandardScaler\n",
    "\n",
    "import seaborn as sns"
   ]
  },
  {
   "cell_type": "code",
   "execution_count": 2,
   "id": "c9b3c0fd-412c-4e9c-8d0f-f6cc4a54f408",
   "metadata": {},
   "outputs": [],
   "source": [
    "data = pd.read_csv('dataset/data.csv', encoding=\"ISO-8859-1\")\n",
    "# data_test = pd.read_csv('dataset/data.csv', encoding=\"ISO-8859-1\", dtype={'CustomerID': str,'InvoiceID': str})"
   ]
  },
  {
   "cell_type": "markdown",
   "id": "9d20f1b3-86bd-453d-9bbe-01fbf07d81e2",
   "metadata": {},
   "source": [
    "This is the data information we have:"
   ]
  },
  {
   "cell_type": "markdown",
   "id": "c7189703-37e5-4b7d-b2f1-5af0e65ddd18",
   "metadata": {},
   "source": [
    "    InvoiceNo    ID       Categorical   6-digit integral number uniquely assigned to each transaction. Start with 'c', indicates a cancellation  \n",
    "    StockCode    ID       Categorical   5-digit integral number uniquely assigned to each distinct product  \n",
    "    Description  Feature  Categorical   product name  \n",
    "    Quantity     Feature  Integer       the quantities of each product (item) per transaction  \n",
    "    InvoiceDate  Feature  Date          the day and time when each transaction was generated  \n",
    "    UnitPrice    Feature  Continuous    product price (sterlin) per unit\t  \n",
    "    CustomerID   Feature  Categorical   5-digit integral number uniquely assigned to each customer  \n",
    "    Country      Feature  Categorical   the name of the country where each customer resides  "
   ]
  },
  {
   "cell_type": "code",
   "execution_count": 3,
   "id": "74d379fc-37df-4148-953b-1cad67a3310c",
   "metadata": {},
   "outputs": [
    {
     "data": {
      "text/html": [
       "<div>\n",
       "<style scoped>\n",
       "    .dataframe tbody tr th:only-of-type {\n",
       "        vertical-align: middle;\n",
       "    }\n",
       "\n",
       "    .dataframe tbody tr th {\n",
       "        vertical-align: top;\n",
       "    }\n",
       "\n",
       "    .dataframe thead th {\n",
       "        text-align: right;\n",
       "    }\n",
       "</style>\n",
       "<table border=\"1\" class=\"dataframe\">\n",
       "  <thead>\n",
       "    <tr style=\"text-align: right;\">\n",
       "      <th></th>\n",
       "      <th>InvoiceNo</th>\n",
       "      <th>StockCode</th>\n",
       "      <th>Description</th>\n",
       "      <th>Quantity</th>\n",
       "      <th>InvoiceDate</th>\n",
       "      <th>UnitPrice</th>\n",
       "      <th>CustomerID</th>\n",
       "      <th>Country</th>\n",
       "    </tr>\n",
       "  </thead>\n",
       "  <tbody>\n",
       "    <tr>\n",
       "      <th>0</th>\n",
       "      <td>536365</td>\n",
       "      <td>85123A</td>\n",
       "      <td>WHITE HANGING HEART T-LIGHT HOLDER</td>\n",
       "      <td>6</td>\n",
       "      <td>12/1/2010 8:26</td>\n",
       "      <td>2.55</td>\n",
       "      <td>17850.0</td>\n",
       "      <td>United Kingdom</td>\n",
       "    </tr>\n",
       "    <tr>\n",
       "      <th>1</th>\n",
       "      <td>536365</td>\n",
       "      <td>71053</td>\n",
       "      <td>WHITE METAL LANTERN</td>\n",
       "      <td>6</td>\n",
       "      <td>12/1/2010 8:26</td>\n",
       "      <td>3.39</td>\n",
       "      <td>17850.0</td>\n",
       "      <td>United Kingdom</td>\n",
       "    </tr>\n",
       "    <tr>\n",
       "      <th>2</th>\n",
       "      <td>536365</td>\n",
       "      <td>84406B</td>\n",
       "      <td>CREAM CUPID HEARTS COAT HANGER</td>\n",
       "      <td>8</td>\n",
       "      <td>12/1/2010 8:26</td>\n",
       "      <td>2.75</td>\n",
       "      <td>17850.0</td>\n",
       "      <td>United Kingdom</td>\n",
       "    </tr>\n",
       "    <tr>\n",
       "      <th>3</th>\n",
       "      <td>536365</td>\n",
       "      <td>84029G</td>\n",
       "      <td>KNITTED UNION FLAG HOT WATER BOTTLE</td>\n",
       "      <td>6</td>\n",
       "      <td>12/1/2010 8:26</td>\n",
       "      <td>3.39</td>\n",
       "      <td>17850.0</td>\n",
       "      <td>United Kingdom</td>\n",
       "    </tr>\n",
       "    <tr>\n",
       "      <th>4</th>\n",
       "      <td>536365</td>\n",
       "      <td>84029E</td>\n",
       "      <td>RED WOOLLY HOTTIE WHITE HEART.</td>\n",
       "      <td>6</td>\n",
       "      <td>12/1/2010 8:26</td>\n",
       "      <td>3.39</td>\n",
       "      <td>17850.0</td>\n",
       "      <td>United Kingdom</td>\n",
       "    </tr>\n",
       "  </tbody>\n",
       "</table>\n",
       "</div>"
      ],
      "text/plain": [
       "  InvoiceNo StockCode                          Description  Quantity  \\\n",
       "0    536365    85123A   WHITE HANGING HEART T-LIGHT HOLDER         6   \n",
       "1    536365     71053                  WHITE METAL LANTERN         6   \n",
       "2    536365    84406B       CREAM CUPID HEARTS COAT HANGER         8   \n",
       "3    536365    84029G  KNITTED UNION FLAG HOT WATER BOTTLE         6   \n",
       "4    536365    84029E       RED WOOLLY HOTTIE WHITE HEART.         6   \n",
       "\n",
       "      InvoiceDate  UnitPrice  CustomerID         Country  \n",
       "0  12/1/2010 8:26       2.55     17850.0  United Kingdom  \n",
       "1  12/1/2010 8:26       3.39     17850.0  United Kingdom  \n",
       "2  12/1/2010 8:26       2.75     17850.0  United Kingdom  \n",
       "3  12/1/2010 8:26       3.39     17850.0  United Kingdom  \n",
       "4  12/1/2010 8:26       3.39     17850.0  United Kingdom  "
      ]
     },
     "execution_count": 3,
     "metadata": {},
     "output_type": "execute_result"
    }
   ],
   "source": [
    "data.head()"
   ]
  },
  {
   "cell_type": "markdown",
   "id": "9ab43e2e-7c2c-4466-8eae-e23fe5bd32ed",
   "metadata": {},
   "source": [
    "Before starting filtering the dataset we will make a security copy:"
   ]
  },
  {
   "cell_type": "code",
   "execution_count": 4,
   "id": "e302e54c-eccb-4cf0-b7d3-0c6ff4dfbaa6",
   "metadata": {},
   "outputs": [],
   "source": [
    "df = data.copy()"
   ]
  },
  {
   "cell_type": "markdown",
   "id": "b0e3e210-843d-41dd-9313-0945e5e89cf4",
   "metadata": {},
   "source": [
    "Duplicates inspection:"
   ]
  },
  {
   "cell_type": "code",
   "execution_count": 58,
   "id": "2c063c2e-6b82-4081-8831-80e07cd01ab4",
   "metadata": {},
   "outputs": [
    {
     "data": {
      "text/plain": [
       "5268"
      ]
     },
     "execution_count": 58,
     "metadata": {},
     "output_type": "execute_result"
    }
   ],
   "source": [
    "df.duplicated().sum()"
   ]
  },
  {
   "cell_type": "markdown",
   "id": "0a0a06a1-ee67-4f69-8641-805985ab0214",
   "metadata": {},
   "source": [
    "There are 5269 duplicated rows. Let's visualize them:"
   ]
  },
  {
   "cell_type": "code",
   "execution_count": 61,
   "id": "976a88eb-7d6e-49b6-901c-a401cde4f3d5",
   "metadata": {},
   "outputs": [
    {
     "data": {
      "text/html": [
       "<div>\n",
       "<style scoped>\n",
       "    .dataframe tbody tr th:only-of-type {\n",
       "        vertical-align: middle;\n",
       "    }\n",
       "\n",
       "    .dataframe tbody tr th {\n",
       "        vertical-align: top;\n",
       "    }\n",
       "\n",
       "    .dataframe thead th {\n",
       "        text-align: right;\n",
       "    }\n",
       "</style>\n",
       "<table border=\"1\" class=\"dataframe\">\n",
       "  <thead>\n",
       "    <tr style=\"text-align: right;\">\n",
       "      <th></th>\n",
       "      <th>InvoiceNo</th>\n",
       "      <th>StockCode</th>\n",
       "      <th>Description</th>\n",
       "      <th>Quantity</th>\n",
       "      <th>InvoiceDate</th>\n",
       "      <th>UnitPrice</th>\n",
       "      <th>CustomerID</th>\n",
       "      <th>Country</th>\n",
       "    </tr>\n",
       "  </thead>\n",
       "  <tbody>\n",
       "    <tr>\n",
       "      <th>494</th>\n",
       "      <td>536409</td>\n",
       "      <td>21866</td>\n",
       "      <td>UNION JACK FLAG LUGGAGE TAG</td>\n",
       "      <td>1</td>\n",
       "      <td>12/1/2010 11:45</td>\n",
       "      <td>1.25</td>\n",
       "      <td>17908.0</td>\n",
       "      <td>United Kingdom</td>\n",
       "    </tr>\n",
       "    <tr>\n",
       "      <th>517</th>\n",
       "      <td>536409</td>\n",
       "      <td>21866</td>\n",
       "      <td>UNION JACK FLAG LUGGAGE TAG</td>\n",
       "      <td>1</td>\n",
       "      <td>12/1/2010 11:45</td>\n",
       "      <td>1.25</td>\n",
       "      <td>17908.0</td>\n",
       "      <td>United Kingdom</td>\n",
       "    </tr>\n",
       "    <tr>\n",
       "      <th>485</th>\n",
       "      <td>536409</td>\n",
       "      <td>22111</td>\n",
       "      <td>SCOTTIE DOG HOT WATER BOTTLE</td>\n",
       "      <td>1</td>\n",
       "      <td>12/1/2010 11:45</td>\n",
       "      <td>4.95</td>\n",
       "      <td>17908.0</td>\n",
       "      <td>United Kingdom</td>\n",
       "    </tr>\n",
       "    <tr>\n",
       "      <th>539</th>\n",
       "      <td>536409</td>\n",
       "      <td>22111</td>\n",
       "      <td>SCOTTIE DOG HOT WATER BOTTLE</td>\n",
       "      <td>1</td>\n",
       "      <td>12/1/2010 11:45</td>\n",
       "      <td>4.95</td>\n",
       "      <td>17908.0</td>\n",
       "      <td>United Kingdom</td>\n",
       "    </tr>\n",
       "    <tr>\n",
       "      <th>489</th>\n",
       "      <td>536409</td>\n",
       "      <td>22866</td>\n",
       "      <td>HAND WARMER SCOTTY DOG DESIGN</td>\n",
       "      <td>1</td>\n",
       "      <td>12/1/2010 11:45</td>\n",
       "      <td>2.10</td>\n",
       "      <td>17908.0</td>\n",
       "      <td>United Kingdom</td>\n",
       "    </tr>\n",
       "    <tr>\n",
       "      <th>527</th>\n",
       "      <td>536409</td>\n",
       "      <td>22866</td>\n",
       "      <td>HAND WARMER SCOTTY DOG DESIGN</td>\n",
       "      <td>1</td>\n",
       "      <td>12/1/2010 11:45</td>\n",
       "      <td>2.10</td>\n",
       "      <td>17908.0</td>\n",
       "      <td>United Kingdom</td>\n",
       "    </tr>\n",
       "  </tbody>\n",
       "</table>\n",
       "</div>"
      ],
      "text/plain": [
       "    InvoiceNo StockCode                    Description  Quantity  \\\n",
       "494  536409    21866     UNION JACK FLAG LUGGAGE TAG    1          \n",
       "517  536409    21866     UNION JACK FLAG LUGGAGE TAG    1          \n",
       "485  536409    22111     SCOTTIE DOG HOT WATER BOTTLE   1          \n",
       "539  536409    22111     SCOTTIE DOG HOT WATER BOTTLE   1          \n",
       "489  536409    22866     HAND WARMER SCOTTY DOG DESIGN  1          \n",
       "527  536409    22866     HAND WARMER SCOTTY DOG DESIGN  1          \n",
       "\n",
       "         InvoiceDate  UnitPrice  CustomerID         Country  \n",
       "494  12/1/2010 11:45  1.25       17908.0     United Kingdom  \n",
       "517  12/1/2010 11:45  1.25       17908.0     United Kingdom  \n",
       "485  12/1/2010 11:45  4.95       17908.0     United Kingdom  \n",
       "539  12/1/2010 11:45  4.95       17908.0     United Kingdom  \n",
       "489  12/1/2010 11:45  2.10       17908.0     United Kingdom  \n",
       "527  12/1/2010 11:45  2.10       17908.0     United Kingdom  "
      ]
     },
     "execution_count": 61,
     "metadata": {},
     "output_type": "execute_result"
    }
   ],
   "source": [
    "df_dups = df[df.duplicated(keep=False)]\n",
    "df_dups = df_dups.sort_values(by=['InvoiceNo', 'StockCode', 'Description', 'CustomerID', 'Quantity'])\n",
    "df_dups.head(6)"
   ]
  },
  {
   "cell_type": "code",
   "execution_count": 5,
   "id": "79efd371-7199-426c-99f0-a23806d9be1b",
   "metadata": {},
   "outputs": [],
   "source": [
    "df = df.drop_duplicates()"
   ]
  },
  {
   "cell_type": "markdown",
   "id": "8734f0eb-1ca7-4648-b40a-7e41a9d099f4",
   "metadata": {},
   "source": [
    "Null values inspection:"
   ]
  },
  {
   "cell_type": "code",
   "execution_count": 63,
   "id": "179279c5-874b-461f-b796-6da7d3375f85",
   "metadata": {},
   "outputs": [
    {
     "data": {
      "text/plain": [
       "InvoiceNo      0     \n",
       "StockCode      0     \n",
       "Description    1454  \n",
       "Quantity       0     \n",
       "InvoiceDate    0     \n",
       "UnitPrice      0     \n",
       "CustomerID     135037\n",
       "Country        0     \n",
       "dtype: int64"
      ]
     },
     "execution_count": 63,
     "metadata": {},
     "output_type": "execute_result"
    }
   ],
   "source": [
    "df.isnull().sum()"
   ]
  },
  {
   "cell_type": "markdown",
   "id": "523ec9e6-3e48-48c5-8210-28fc1680ad5c",
   "metadata": {},
   "source": [
    "There are null values in 'Description' and in 'CustomerID'. "
   ]
  },
  {
   "cell_type": "code",
   "execution_count": 6,
   "id": "0695e929-0cef-43c5-bc81-c12afeee6f8a",
   "metadata": {},
   "outputs": [
    {
     "data": {
      "text/plain": [
       "1454"
      ]
     },
     "execution_count": 6,
     "metadata": {},
     "output_type": "execute_result"
    }
   ],
   "source": [
    "df[df['Description'].isnull() & df['CustomerID'].isnull()].shape[0]"
   ]
  },
  {
   "cell_type": "markdown",
   "id": "f79ee4a5-8791-40cf-9774-0a7895c718fd",
   "metadata": {},
   "source": [
    "The rows with null values in 'Description' have also null values in 'Customer ID' feature. Let's confirm this with some examples:"
   ]
  },
  {
   "cell_type": "code",
   "execution_count": 65,
   "id": "153fe10f-02e4-409b-8055-b47e157ef359",
   "metadata": {},
   "outputs": [
    {
     "data": {
      "text/html": [
       "<div>\n",
       "<style scoped>\n",
       "    .dataframe tbody tr th:only-of-type {\n",
       "        vertical-align: middle;\n",
       "    }\n",
       "\n",
       "    .dataframe tbody tr th {\n",
       "        vertical-align: top;\n",
       "    }\n",
       "\n",
       "    .dataframe thead th {\n",
       "        text-align: right;\n",
       "    }\n",
       "</style>\n",
       "<table border=\"1\" class=\"dataframe\">\n",
       "  <thead>\n",
       "    <tr style=\"text-align: right;\">\n",
       "      <th></th>\n",
       "      <th>InvoiceNo</th>\n",
       "      <th>StockCode</th>\n",
       "      <th>Description</th>\n",
       "      <th>Quantity</th>\n",
       "      <th>InvoiceDate</th>\n",
       "      <th>UnitPrice</th>\n",
       "      <th>CustomerID</th>\n",
       "      <th>Country</th>\n",
       "    </tr>\n",
       "  </thead>\n",
       "  <tbody>\n",
       "    <tr>\n",
       "      <th>622</th>\n",
       "      <td>536414</td>\n",
       "      <td>22139</td>\n",
       "      <td>NaN</td>\n",
       "      <td>56</td>\n",
       "      <td>12/1/2010 11:52</td>\n",
       "      <td>0.0</td>\n",
       "      <td>NaN</td>\n",
       "      <td>United Kingdom</td>\n",
       "    </tr>\n",
       "    <tr>\n",
       "      <th>1970</th>\n",
       "      <td>536545</td>\n",
       "      <td>21134</td>\n",
       "      <td>NaN</td>\n",
       "      <td>1</td>\n",
       "      <td>12/1/2010 14:32</td>\n",
       "      <td>0.0</td>\n",
       "      <td>NaN</td>\n",
       "      <td>United Kingdom</td>\n",
       "    </tr>\n",
       "    <tr>\n",
       "      <th>1971</th>\n",
       "      <td>536546</td>\n",
       "      <td>22145</td>\n",
       "      <td>NaN</td>\n",
       "      <td>1</td>\n",
       "      <td>12/1/2010 14:33</td>\n",
       "      <td>0.0</td>\n",
       "      <td>NaN</td>\n",
       "      <td>United Kingdom</td>\n",
       "    </tr>\n",
       "    <tr>\n",
       "      <th>1972</th>\n",
       "      <td>536547</td>\n",
       "      <td>37509</td>\n",
       "      <td>NaN</td>\n",
       "      <td>1</td>\n",
       "      <td>12/1/2010 14:33</td>\n",
       "      <td>0.0</td>\n",
       "      <td>NaN</td>\n",
       "      <td>United Kingdom</td>\n",
       "    </tr>\n",
       "    <tr>\n",
       "      <th>1987</th>\n",
       "      <td>536549</td>\n",
       "      <td>85226A</td>\n",
       "      <td>NaN</td>\n",
       "      <td>1</td>\n",
       "      <td>12/1/2010 14:34</td>\n",
       "      <td>0.0</td>\n",
       "      <td>NaN</td>\n",
       "      <td>United Kingdom</td>\n",
       "    </tr>\n",
       "  </tbody>\n",
       "</table>\n",
       "</div>"
      ],
      "text/plain": [
       "     InvoiceNo StockCode Description  Quantity      InvoiceDate  UnitPrice  \\\n",
       "622   536414    22139     NaN         56        12/1/2010 11:52  0.0         \n",
       "1970  536545    21134     NaN         1         12/1/2010 14:32  0.0         \n",
       "1971  536546    22145     NaN         1         12/1/2010 14:33  0.0         \n",
       "1972  536547    37509     NaN         1         12/1/2010 14:33  0.0         \n",
       "1987  536549    85226A    NaN         1         12/1/2010 14:34  0.0         \n",
       "\n",
       "      CustomerID         Country  \n",
       "622  NaN          United Kingdom  \n",
       "1970 NaN          United Kingdom  \n",
       "1971 NaN          United Kingdom  \n",
       "1972 NaN          United Kingdom  \n",
       "1987 NaN          United Kingdom  "
      ]
     },
     "execution_count": 65,
     "metadata": {},
     "output_type": "execute_result"
    }
   ],
   "source": [
    "df[df['Description'].isnull() & df['CustomerID'].isnull()].head()"
   ]
  },
  {
   "cell_type": "markdown",
   "id": "1404a687-3763-4a55-8088-2ff0c549de9e",
   "metadata": {},
   "source": [
    "It's not a good choice to impute 'Customer ID' null values so we'll delete them:"
   ]
  },
  {
   "cell_type": "code",
   "execution_count": 7,
   "id": "4105f7ef-5e4b-4da6-849e-e19f7d7175ab",
   "metadata": {},
   "outputs": [],
   "source": [
    "df = df.dropna()"
   ]
  },
  {
   "cell_type": "code",
   "execution_count": 8,
   "id": "a3d4c031-dde2-4e57-a5fa-653acb36df00",
   "metadata": {},
   "outputs": [
    {
     "data": {
      "text/plain": [
       "(401604, 8)"
      ]
     },
     "execution_count": 8,
     "metadata": {},
     "output_type": "execute_result"
    }
   ],
   "source": [
    "df.shape"
   ]
  },
  {
   "cell_type": "markdown",
   "id": "d9960fbd-f244-4355-afbd-1125eb151064",
   "metadata": {},
   "source": [
    "### Find numerical variables (continuous, discrete, target)"
   ]
  },
  {
   "cell_type": "code",
   "execution_count": 4,
   "id": "5a87a064-e3de-4ba2-b3bf-b101b1e6840b",
   "metadata": {},
   "outputs": [
    {
     "name": "stdout",
     "output_type": "stream",
     "text": [
      "There are 3 numerical variables:\n"
     ]
    },
    {
     "data": {
      "text/plain": [
       "['Quantity', 'UnitPrice', 'CustomerID']"
      ]
     },
     "execution_count": 4,
     "metadata": {},
     "output_type": "execute_result"
    }
   ],
   "source": [
    "numerical = [var for var in data.columns if data[var].dtype!='O']\n",
    "print('There are {} numerical variables:'.format(len(numerical)))\n",
    "numerical"
   ]
  },
  {
   "cell_type": "markdown",
   "id": "0f71b21b-2e25-4209-8d10-d92fc39043b8",
   "metadata": {
    "tags": []
   },
   "source": [
    "### Find discrete variables\n",
    "\n",
    "We will select the ones that contain a finite and small number of distinct values from all the numerical ones:"
   ]
  },
  {
   "cell_type": "code",
   "execution_count": 5,
   "id": "6043aa07-e7b7-41ee-b049-9e72d0e6aada",
   "metadata": {},
   "outputs": [
    {
     "name": "stdout",
     "output_type": "stream",
     "text": [
      "\n",
      "There are 0 discrete variables\n"
     ]
    }
   ],
   "source": [
    "discrete = []\n",
    "\n",
    "for var in numerical:\n",
    "    if len(data[var].unique()) < 20:\n",
    "        print(var, 'values: ', data[var].unique())\n",
    "        discrete.append(var)\n",
    "print()\n",
    "print('There are {} discrete variables'.format(len(discrete)))"
   ]
  },
  {
   "cell_type": "markdown",
   "id": "60cbe519-a161-4fd2-88c0-b0f57d54af7a",
   "metadata": {},
   "source": [
    "### Continuous variables"
   ]
  },
  {
   "cell_type": "code",
   "execution_count": 7,
   "id": "819cd919-a017-4e51-a476-861d7103d835",
   "metadata": {},
   "outputs": [
    {
     "name": "stdout",
     "output_type": "stream",
     "text": [
      "There are 3 numerical and continuous variables\n"
     ]
    },
    {
     "data": {
      "text/plain": [
       "['Quantity', 'UnitPrice', 'CustomerID']"
      ]
     },
     "execution_count": 7,
     "metadata": {},
     "output_type": "execute_result"
    }
   ],
   "source": [
    "continuous = [var for var in numerical if var not in discrete and var not in ['price']]\n",
    "\n",
    "print('There are {} numerical and continuous variables'.format(len(continuous)))\n",
    "continuous"
   ]
  },
  {
   "cell_type": "markdown",
   "id": "5ddd96a6-844a-4ead-9c7a-ec7eea268798",
   "metadata": {
    "tags": []
   },
   "source": [
    "### Find categorical variables "
   ]
  },
  {
   "cell_type": "code",
   "execution_count": 8,
   "id": "fde65369-be5c-43b6-97eb-3a6825945b86",
   "metadata": {},
   "outputs": [
    {
     "name": "stdout",
     "output_type": "stream",
     "text": [
      "There are 5 categorical variables:\n"
     ]
    },
    {
     "data": {
      "text/plain": [
       "['InvoiceNo', 'StockCode', 'Description', 'InvoiceDate', 'Country']"
      ]
     },
     "execution_count": 8,
     "metadata": {},
     "output_type": "execute_result"
    }
   ],
   "source": [
    "categorical = [var for var in data.columns if data[var].dtype=='O']  \n",
    "\n",
    "print('There are {} categorical variables:'.format(len(categorical)))\n",
    "categorical"
   ]
  },
  {
   "cell_type": "markdown",
   "id": "54b238bd-8de4-4301-b79d-35eddf68849f",
   "metadata": {},
   "source": [
    "Categorical variables inspection:"
   ]
  },
  {
   "cell_type": "code",
   "execution_count": 9,
   "id": "f4663d98-7096-4ba0-b19a-533c27299206",
   "metadata": {},
   "outputs": [
    {
     "data": {
      "text/html": [
       "<div>\n",
       "<style scoped>\n",
       "    .dataframe tbody tr th:only-of-type {\n",
       "        vertical-align: middle;\n",
       "    }\n",
       "\n",
       "    .dataframe tbody tr th {\n",
       "        vertical-align: top;\n",
       "    }\n",
       "\n",
       "    .dataframe thead th {\n",
       "        text-align: right;\n",
       "    }\n",
       "</style>\n",
       "<table border=\"1\" class=\"dataframe\">\n",
       "  <thead>\n",
       "    <tr style=\"text-align: right;\">\n",
       "      <th></th>\n",
       "      <th>unique</th>\n",
       "    </tr>\n",
       "  </thead>\n",
       "  <tbody>\n",
       "    <tr>\n",
       "      <th>InvoiceNo</th>\n",
       "      <td>[536365, 536366, 536367, 536368, 536369, 536370, 536371, 536372, 536373, 536374, 536375, 536376, 536377, 536378, 536380, 536381, C536379, 536382, C536383, 536384, 536385, 536386, 536387, 536388, 536389, 536390, C536391, 536392, 536393, 536394, 536395, 536396, 536397, 536398, 536399, 536400, 536401, 536402, 536403, 536404, 536405, 536406, 536407, 536408, 536409, 536412, 536414, 536415, 536416, 536420, 536423, 536425, 536437, 536446, 536460, 536463, 536464, 536466, 536477, 536488, 536500, 536502, 536508, C536506, 536514, 536520, 536521, 536522, 536523, 536524, 536525, 536526, 536527, 536528, 536529, 536530, 536531, 536532, 536533, 536534, 536535, 536536, 536537, 536538, 536539, 536540, 536541, 536542, C536543, 536544, 536545, 536546, 536547, C536548, 536549, 536550, 536551, 536552, 536553, 536554, ...]</td>\n",
       "    </tr>\n",
       "    <tr>\n",
       "      <th>StockCode</th>\n",
       "      <td>[85123A, 71053, 84406B, 84029G, 84029E, 22752, 21730, 22633, 22632, 84879, 22745, 22748, 22749, 22310, 84969, 22623, 22622, 21754, 21755, 21777, 48187, 22960, 22913, 22912, 22914, 21756, 22728, 22727, 22726, 21724, 21883, 10002, 21791, 21035, 22326, 22629, 22659, 22631, 22661, 21731, 22900, 21913, 22540, 22544, 22492, POST, 22086, 20679, 37370, 21871, 21071, 21068, 82483, 82486, 82482, 82494L, 21258, 22114, 21733, 22386, 85099C, 21033, 20723, 84997B, 84997C, 21094, 20725, 21559, 22352, 21212, 21975, 21977, 84991, 84519A, 85183B, 85071B, 21931, 21929, 22961, 22139, 84854, 22411, 82567, 21672, 22774, 22771, 71270, 22262, 22637, 21934, 21169, 21166, 21175, 37444A, 37444C, 22083, 84971S, 47580, 22261, 84832, ...]</td>\n",
       "    </tr>\n",
       "    <tr>\n",
       "      <th>Description</th>\n",
       "      <td>[WHITE HANGING HEART T-LIGHT HOLDER, WHITE METAL LANTERN, CREAM CUPID HEARTS COAT HANGER, KNITTED UNION FLAG HOT WATER BOTTLE, RED WOOLLY HOTTIE WHITE HEART., SET 7 BABUSHKA NESTING BOXES, GLASS STAR FROSTED T-LIGHT HOLDER, HAND WARMER UNION JACK, HAND WARMER RED POLKA DOT, ASSORTED COLOUR BIRD ORNAMENT, POPPY'S PLAYHOUSE BEDROOM , POPPY'S PLAYHOUSE KITCHEN, FELTCRAFT PRINCESS CHARLOTTE DOLL, IVORY KNITTED MUG COSY , BOX OF 6 ASSORTED COLOUR TEASPOONS, BOX OF VINTAGE JIGSAW BLOCKS , BOX OF VINTAGE ALPHABET BLOCKS, HOME BUILDING BLOCK WORD, LOVE BUILDING BLOCK WORD, RECIPE BOX WITH METAL HEART, DOORMAT NEW ENGLAND, JAM MAKING SET WITH JARS, RED COAT RACK PARIS FASHION, YELLOW COAT RACK PARIS FASHION, BLUE COAT RACK PARIS FASHION, BATH BUILDING BLOCK WORD, ALARM CLOCK BAKELIKE PINK, ALARM CLOCK BAKELIKE RED , ALARM CLOCK BAKELIKE GREEN, PANDA AND BUNNIES STICKER SHEET, STARS GIFT TAPE , INFLATABLE POLITICAL GLOBE , VINTAGE HEADS AND TAILS CARD GAME , SET/2 RED RETROSPOT TEA TOWELS , ROUND SNACK BOXES SET OF4 WOODLAND , SPACEBOY LUNCH BOX , LUNCH BOX I LOVE LONDON, CIRCUS PARADE LUNCH BOX , CHARLOTTE BAG DOLLY GIRL DESIGN, RED TOADSTOOL LED NIGHT LIGHT,  SET 2 TEA TOWELS I LOVE LONDON , VINTAGE SEASIDE JIGSAW PUZZLES, MINI JIGSAW CIRCUS PARADE , MINI JIGSAW SPACEBOY, MINI PAINT SET VINTAGE , POSTAGE, PAPER CHAIN KIT 50'S CHRISTMAS , EDWARDIAN PARASOL RED, RETRO COFFEE MUGS ASSORTED, SAVE THE PLANET MUG, VINTAGE BILLBOARD DRINK ME MUG, VINTAGE BILLBOARD LOVE/HATE MUG, WOOD 2 DRAWER CABINET WHITE FINISH, WOOD S/3 CABINET ANT WHITE FINISH, WOODEN PICTURE FRAME WHITE FINISH, WOODEN FRAME ANTIQUE WHITE , VICTORIAN SEWING BOX LARGE, HOT WATER BOTTLE TEA AND SYMPATHY, RED HANGING HEART T-LIGHT HOLDER, JUMBO BAG PINK POLKADOT, JUMBO  BAG BAROQUE BLACK WHITE, JUMBO BAG CHARLIE AND LOLA TOYS, STRAWBERRY CHARLOTTE BAG, RED 3 PIECE RETROSPOT CUTLERY SET, BLUE 3 PIECE POLKADOT CUTLERY SET, SET/6 RED SPOTTY PAPER PLATES, LUNCH BAG RED RETROSPOT, STRAWBERRY LUNCH BOX WITH CUTLERY, LUNCH BOX WITH CUTLERY RETROSPOT , PACK OF 72 RETROSPOT CAKE CASES, PACK OF 60 DINOSAUR CAKE CASES, PACK OF 60 PINK PAISLEY CAKE CASES, 60 TEATIME FAIRY CAKE CASES, TOMATO CHARLIE+LOLA COASTER SET, CHARLIE &amp; LOLA WASTEPAPER BIN FLORA, RED CHARLIE+LOLA PERSONAL DOORSIGN, JUMBO STORAGE BAG SUKI, JUMBO BAG PINK VINTAGE PAISLEY, JAM MAKING SET PRINTED, RETROSPOT TEA SET CERAMIC 11 PC , GIRLY PINK TOOL SET, JUMBO SHOPPER VINTAGE RED PAISLEY, AIRLINE LOUNGE,METAL SIGN, WHITE SPOT RED CERAMIC DRAWER KNOB, RED DRAWER KNOB ACRYLIC EDWARDIAN, CLEAR DRAWER KNOB ACRYLIC EDWARDIAN, PHOTO CLIP LINE, FELT EGG COSY CHICKEN, PIGGY BANK RETROSPOT , SKULL SHOULDER BAG, YOU'RE CONFUSING ME METAL SIGN , COOK WITH WINE METAL SIGN , GIN + TONIC DIET METAL SIGN, YELLOW BREAKFAST CUP AND SAUCER, PINK BREAKFAST CUP AND SAUCER , PAPER CHAIN KIT RETROSPOT, SMALL HEART FLOWERS HOOK , TEA TIME DES TEA COSY, FELT EGG COSY WHITE RABBIT , ZINC WILLIE WINKIE  CANDLE STICK, ...]</td>\n",
       "    </tr>\n",
       "    <tr>\n",
       "      <th>InvoiceDate</th>\n",
       "      <td>[12/1/2010 8:26, 12/1/2010 8:28, 12/1/2010 8:34, 12/1/2010 8:35, 12/1/2010 8:45, 12/1/2010 9:00, 12/1/2010 9:01, 12/1/2010 9:02, 12/1/2010 9:09, 12/1/2010 9:32, 12/1/2010 9:34, 12/1/2010 9:37, 12/1/2010 9:41, 12/1/2010 9:45, 12/1/2010 9:49, 12/1/2010 9:53, 12/1/2010 9:56, 12/1/2010 9:57, 12/1/2010 9:58, 12/1/2010 9:59, 12/1/2010 10:03, 12/1/2010 10:19, 12/1/2010 10:24, 12/1/2010 10:29, 12/1/2010 10:37, 12/1/2010 10:39, 12/1/2010 10:47, 12/1/2010 10:51, 12/1/2010 10:52, 12/1/2010 10:53, 12/1/2010 11:21, 12/1/2010 11:22, 12/1/2010 11:27, 12/1/2010 11:29, 12/1/2010 11:32, 12/1/2010 11:33, 12/1/2010 11:34, 12/1/2010 11:41, 12/1/2010 11:45, 12/1/2010 11:49, 12/1/2010 11:52, 12/1/2010 11:57, 12/1/2010 11:58, 12/1/2010 12:03, 12/1/2010 12:08, 12/1/2010 12:12, 12/1/2010 12:15, 12/1/2010 12:22, 12/1/2010 12:23, 12/1/2010 12:27, 12/1/2010 12:31, 12/1/2010 12:35, 12/1/2010 12:36, 12/1/2010 12:38, 12/1/2010 12:40, 12/1/2010 12:43, 12/1/2010 12:48, 12/1/2010 12:49, 12/1/2010 12:50, 12/1/2010 12:51, 12/1/2010 12:54, 12/1/2010 12:58, 12/1/2010 13:04, 12/1/2010 13:17, 12/1/2010 13:20, 12/1/2010 13:21, 12/1/2010 13:23, 12/1/2010 13:24, 12/1/2010 13:31, 12/1/2010 13:33, 12/1/2010 13:38, 12/1/2010 13:45, 12/1/2010 13:51, 12/1/2010 13:54, 12/1/2010 14:03, 12/1/2010 14:05, 12/1/2010 14:11, 12/1/2010 14:30, 12/1/2010 14:32, 12/1/2010 14:33, 12/1/2010 14:34, 12/1/2010 14:35, 12/1/2010 14:37, 12/1/2010 14:38, 12/1/2010 14:41, 12/1/2010 14:48, 12/1/2010 14:54, 12/1/2010 15:00, 12/1/2010 15:06, 12/1/2010 15:08, 12/1/2010 15:15, 12/1/2010 15:21, 12/1/2010 15:27, 12/1/2010 15:28, 12/1/2010 15:35, 12/1/2010 15:37, 12/1/2010 15:40, 12/1/2010 15:45, 12/1/2010 15:46, 12/1/2010 16:01, ...]</td>\n",
       "    </tr>\n",
       "    <tr>\n",
       "      <th>Country</th>\n",
       "      <td>[United Kingdom, France, Australia, Netherlands, Germany, Norway, EIRE, Switzerland, Spain, Poland, Portugal, Italy, Belgium, Lithuania, Japan, Iceland, Channel Islands, Denmark, Cyprus, Sweden, Austria, Israel, Finland, Bahrain, Greece, Hong Kong, Singapore, Lebanon, United Arab Emirates, Saudi Arabia, Czech Republic, Canada, Unspecified, Brazil, USA, European Community, Malta, RSA]</td>\n",
       "    </tr>\n",
       "  </tbody>\n",
       "</table>\n",
       "</div>"
      ],
      "text/plain": [
       "                                                                                                                                                                                                                                                                                                                                                                                                                                                                                                                                                                                                                                                                                                                                                                                                                                                                                                                                                                                                                                                                                                                                                                                                                                                                                                                                                                                                                                                                                                                                                                                                                                                                                                                                                                                                                                                                                                                                                                                                                                                                                                                                                                                                                                                                                                                                                                                                                                                                                                                                                                                                                                                                                                                                                                                                                                                                                                                                                                                                                                                                                   unique\n",
       "InvoiceNo    [536365, 536366, 536367, 536368, 536369, 536370, 536371, 536372, 536373, 536374, 536375, 536376, 536377, 536378, 536380, 536381, C536379, 536382, C536383, 536384, 536385, 536386, 536387, 536388, 536389, 536390, C536391, 536392, 536393, 536394, 536395, 536396, 536397, 536398, 536399, 536400, 536401, 536402, 536403, 536404, 536405, 536406, 536407, 536408, 536409, 536412, 536414, 536415, 536416, 536420, 536423, 536425, 536437, 536446, 536460, 536463, 536464, 536466, 536477, 536488, 536500, 536502, 536508, C536506, 536514, 536520, 536521, 536522, 536523, 536524, 536525, 536526, 536527, 536528, 536529, 536530, 536531, 536532, 536533, 536534, 536535, 536536, 536537, 536538, 536539, 536540, 536541, 536542, C536543, 536544, 536545, 536546, 536547, C536548, 536549, 536550, 536551, 536552, 536553, 536554, ...]                                                                                                                                                                                                                                                                                                                                                                                                                                                                                                                                                                                                                                                                                                                                                                                                                                                                                                                                                                                                                                                                                                                                                                                                                                                                                                                                                                                                                                                                                                                                                                                                                                                                                                                                                                                                                                                                                                                                                                                                                                                                                                                                                                                                                                 \n",
       "StockCode    [85123A, 71053, 84406B, 84029G, 84029E, 22752, 21730, 22633, 22632, 84879, 22745, 22748, 22749, 22310, 84969, 22623, 22622, 21754, 21755, 21777, 48187, 22960, 22913, 22912, 22914, 21756, 22728, 22727, 22726, 21724, 21883, 10002, 21791, 21035, 22326, 22629, 22659, 22631, 22661, 21731, 22900, 21913, 22540, 22544, 22492, POST, 22086, 20679, 37370, 21871, 21071, 21068, 82483, 82486, 82482, 82494L, 21258, 22114, 21733, 22386, 85099C, 21033, 20723, 84997B, 84997C, 21094, 20725, 21559, 22352, 21212, 21975, 21977, 84991, 84519A, 85183B, 85071B, 21931, 21929, 22961, 22139, 84854, 22411, 82567, 21672, 22774, 22771, 71270, 22262, 22637, 21934, 21169, 21166, 21175, 37444A, 37444C, 22083, 84971S, 47580, 22261, 84832, ...]                                                                                                                                                                                                                                                                                                                                                                                                                                                                                                                                                                                                                                                                                                                                                                                                                                                                                                                                                                                                                                                                                                                                                                                                                                                                                                                                                                                                                                                                                                                                                                                                                                                                                                                                                                                                                                                                                                                                                                                                                                                                                                                                                                                                                                                                                                                              \n",
       "Description  [WHITE HANGING HEART T-LIGHT HOLDER, WHITE METAL LANTERN, CREAM CUPID HEARTS COAT HANGER, KNITTED UNION FLAG HOT WATER BOTTLE, RED WOOLLY HOTTIE WHITE HEART., SET 7 BABUSHKA NESTING BOXES, GLASS STAR FROSTED T-LIGHT HOLDER, HAND WARMER UNION JACK, HAND WARMER RED POLKA DOT, ASSORTED COLOUR BIRD ORNAMENT, POPPY'S PLAYHOUSE BEDROOM , POPPY'S PLAYHOUSE KITCHEN, FELTCRAFT PRINCESS CHARLOTTE DOLL, IVORY KNITTED MUG COSY , BOX OF 6 ASSORTED COLOUR TEASPOONS, BOX OF VINTAGE JIGSAW BLOCKS , BOX OF VINTAGE ALPHABET BLOCKS, HOME BUILDING BLOCK WORD, LOVE BUILDING BLOCK WORD, RECIPE BOX WITH METAL HEART, DOORMAT NEW ENGLAND, JAM MAKING SET WITH JARS, RED COAT RACK PARIS FASHION, YELLOW COAT RACK PARIS FASHION, BLUE COAT RACK PARIS FASHION, BATH BUILDING BLOCK WORD, ALARM CLOCK BAKELIKE PINK, ALARM CLOCK BAKELIKE RED , ALARM CLOCK BAKELIKE GREEN, PANDA AND BUNNIES STICKER SHEET, STARS GIFT TAPE , INFLATABLE POLITICAL GLOBE , VINTAGE HEADS AND TAILS CARD GAME , SET/2 RED RETROSPOT TEA TOWELS , ROUND SNACK BOXES SET OF4 WOODLAND , SPACEBOY LUNCH BOX , LUNCH BOX I LOVE LONDON, CIRCUS PARADE LUNCH BOX , CHARLOTTE BAG DOLLY GIRL DESIGN, RED TOADSTOOL LED NIGHT LIGHT,  SET 2 TEA TOWELS I LOVE LONDON , VINTAGE SEASIDE JIGSAW PUZZLES, MINI JIGSAW CIRCUS PARADE , MINI JIGSAW SPACEBOY, MINI PAINT SET VINTAGE , POSTAGE, PAPER CHAIN KIT 50'S CHRISTMAS , EDWARDIAN PARASOL RED, RETRO COFFEE MUGS ASSORTED, SAVE THE PLANET MUG, VINTAGE BILLBOARD DRINK ME MUG, VINTAGE BILLBOARD LOVE/HATE MUG, WOOD 2 DRAWER CABINET WHITE FINISH, WOOD S/3 CABINET ANT WHITE FINISH, WOODEN PICTURE FRAME WHITE FINISH, WOODEN FRAME ANTIQUE WHITE , VICTORIAN SEWING BOX LARGE, HOT WATER BOTTLE TEA AND SYMPATHY, RED HANGING HEART T-LIGHT HOLDER, JUMBO BAG PINK POLKADOT, JUMBO  BAG BAROQUE BLACK WHITE, JUMBO BAG CHARLIE AND LOLA TOYS, STRAWBERRY CHARLOTTE BAG, RED 3 PIECE RETROSPOT CUTLERY SET, BLUE 3 PIECE POLKADOT CUTLERY SET, SET/6 RED SPOTTY PAPER PLATES, LUNCH BAG RED RETROSPOT, STRAWBERRY LUNCH BOX WITH CUTLERY, LUNCH BOX WITH CUTLERY RETROSPOT , PACK OF 72 RETROSPOT CAKE CASES, PACK OF 60 DINOSAUR CAKE CASES, PACK OF 60 PINK PAISLEY CAKE CASES, 60 TEATIME FAIRY CAKE CASES, TOMATO CHARLIE+LOLA COASTER SET, CHARLIE & LOLA WASTEPAPER BIN FLORA, RED CHARLIE+LOLA PERSONAL DOORSIGN, JUMBO STORAGE BAG SUKI, JUMBO BAG PINK VINTAGE PAISLEY, JAM MAKING SET PRINTED, RETROSPOT TEA SET CERAMIC 11 PC , GIRLY PINK TOOL SET, JUMBO SHOPPER VINTAGE RED PAISLEY, AIRLINE LOUNGE,METAL SIGN, WHITE SPOT RED CERAMIC DRAWER KNOB, RED DRAWER KNOB ACRYLIC EDWARDIAN, CLEAR DRAWER KNOB ACRYLIC EDWARDIAN, PHOTO CLIP LINE, FELT EGG COSY CHICKEN, PIGGY BANK RETROSPOT , SKULL SHOULDER BAG, YOU'RE CONFUSING ME METAL SIGN , COOK WITH WINE METAL SIGN , GIN + TONIC DIET METAL SIGN, YELLOW BREAKFAST CUP AND SAUCER, PINK BREAKFAST CUP AND SAUCER , PAPER CHAIN KIT RETROSPOT, SMALL HEART FLOWERS HOOK , TEA TIME DES TEA COSY, FELT EGG COSY WHITE RABBIT , ZINC WILLIE WINKIE  CANDLE STICK, ...]\n",
       "InvoiceDate  [12/1/2010 8:26, 12/1/2010 8:28, 12/1/2010 8:34, 12/1/2010 8:35, 12/1/2010 8:45, 12/1/2010 9:00, 12/1/2010 9:01, 12/1/2010 9:02, 12/1/2010 9:09, 12/1/2010 9:32, 12/1/2010 9:34, 12/1/2010 9:37, 12/1/2010 9:41, 12/1/2010 9:45, 12/1/2010 9:49, 12/1/2010 9:53, 12/1/2010 9:56, 12/1/2010 9:57, 12/1/2010 9:58, 12/1/2010 9:59, 12/1/2010 10:03, 12/1/2010 10:19, 12/1/2010 10:24, 12/1/2010 10:29, 12/1/2010 10:37, 12/1/2010 10:39, 12/1/2010 10:47, 12/1/2010 10:51, 12/1/2010 10:52, 12/1/2010 10:53, 12/1/2010 11:21, 12/1/2010 11:22, 12/1/2010 11:27, 12/1/2010 11:29, 12/1/2010 11:32, 12/1/2010 11:33, 12/1/2010 11:34, 12/1/2010 11:41, 12/1/2010 11:45, 12/1/2010 11:49, 12/1/2010 11:52, 12/1/2010 11:57, 12/1/2010 11:58, 12/1/2010 12:03, 12/1/2010 12:08, 12/1/2010 12:12, 12/1/2010 12:15, 12/1/2010 12:22, 12/1/2010 12:23, 12/1/2010 12:27, 12/1/2010 12:31, 12/1/2010 12:35, 12/1/2010 12:36, 12/1/2010 12:38, 12/1/2010 12:40, 12/1/2010 12:43, 12/1/2010 12:48, 12/1/2010 12:49, 12/1/2010 12:50, 12/1/2010 12:51, 12/1/2010 12:54, 12/1/2010 12:58, 12/1/2010 13:04, 12/1/2010 13:17, 12/1/2010 13:20, 12/1/2010 13:21, 12/1/2010 13:23, 12/1/2010 13:24, 12/1/2010 13:31, 12/1/2010 13:33, 12/1/2010 13:38, 12/1/2010 13:45, 12/1/2010 13:51, 12/1/2010 13:54, 12/1/2010 14:03, 12/1/2010 14:05, 12/1/2010 14:11, 12/1/2010 14:30, 12/1/2010 14:32, 12/1/2010 14:33, 12/1/2010 14:34, 12/1/2010 14:35, 12/1/2010 14:37, 12/1/2010 14:38, 12/1/2010 14:41, 12/1/2010 14:48, 12/1/2010 14:54, 12/1/2010 15:00, 12/1/2010 15:06, 12/1/2010 15:08, 12/1/2010 15:15, 12/1/2010 15:21, 12/1/2010 15:27, 12/1/2010 15:28, 12/1/2010 15:35, 12/1/2010 15:37, 12/1/2010 15:40, 12/1/2010 15:45, 12/1/2010 15:46, 12/1/2010 16:01, ...]                                                                                                                                                                                                                                                                                                                                                                                                                                                                                                                                                                                                                                                                                                                                                                                                                                                                                                                                                                                                                                                                                                                                                                                                                                                                                                                       \n",
       "Country      [United Kingdom, France, Australia, Netherlands, Germany, Norway, EIRE, Switzerland, Spain, Poland, Portugal, Italy, Belgium, Lithuania, Japan, Iceland, Channel Islands, Denmark, Cyprus, Sweden, Austria, Israel, Finland, Bahrain, Greece, Hong Kong, Singapore, Lebanon, United Arab Emirates, Saudi Arabia, Czech Republic, Canada, Unspecified, Brazil, USA, European Community, Malta, RSA]                                                                                                                                                                                                                                                                                                                                                                                                                                                                                                                                                                                                                                                                                                                                                                                                                                                                                                                                                                                                                                                                                                                                                                                                                                                                                                                                                                                                                                                                                                                                                                                                                                                                                                                                                                                                                                                                                                                                                                                                                                                                                                                                                                                                                                                                                                                                                                                                                                                                                                                                                                                                                                                                          "
      ]
     },
     "execution_count": 9,
     "metadata": {},
     "output_type": "execute_result"
    }
   ],
   "source": [
    "pd.set_option('display.max_colwidth', 0)\n",
    "data[categorical].agg(['unique']).transpose()"
   ]
  },
  {
   "cell_type": "markdown",
   "id": "afd11667-5be8-4e56-baf4-87c1cb245242",
   "metadata": {},
   "source": [
    "Let's inspect numerical variables distributions:"
   ]
  },
  {
   "cell_type": "code",
   "execution_count": 9,
   "id": "1b4d43a7-89c5-4374-9f87-b1755fa98698",
   "metadata": {},
   "outputs": [
    {
     "data": {
      "text/html": [
       "<div>\n",
       "<style scoped>\n",
       "    .dataframe tbody tr th:only-of-type {\n",
       "        vertical-align: middle;\n",
       "    }\n",
       "\n",
       "    .dataframe tbody tr th {\n",
       "        vertical-align: top;\n",
       "    }\n",
       "\n",
       "    .dataframe thead th {\n",
       "        text-align: right;\n",
       "    }\n",
       "</style>\n",
       "<table border=\"1\" class=\"dataframe\">\n",
       "  <thead>\n",
       "    <tr style=\"text-align: right;\">\n",
       "      <th></th>\n",
       "      <th>Quantity</th>\n",
       "      <th>UnitPrice</th>\n",
       "      <th>CustomerID</th>\n",
       "    </tr>\n",
       "  </thead>\n",
       "  <tbody>\n",
       "    <tr>\n",
       "      <th>count</th>\n",
       "      <td>401604.000000</td>\n",
       "      <td>401604.000000</td>\n",
       "      <td>401604.000000</td>\n",
       "    </tr>\n",
       "    <tr>\n",
       "      <th>mean</th>\n",
       "      <td>12.183273</td>\n",
       "      <td>3.474064</td>\n",
       "      <td>15281.160818</td>\n",
       "    </tr>\n",
       "    <tr>\n",
       "      <th>std</th>\n",
       "      <td>250.283037</td>\n",
       "      <td>69.764035</td>\n",
       "      <td>1714.006089</td>\n",
       "    </tr>\n",
       "    <tr>\n",
       "      <th>min</th>\n",
       "      <td>-80995.000000</td>\n",
       "      <td>0.000000</td>\n",
       "      <td>12346.000000</td>\n",
       "    </tr>\n",
       "    <tr>\n",
       "      <th>25%</th>\n",
       "      <td>2.000000</td>\n",
       "      <td>1.250000</td>\n",
       "      <td>13939.000000</td>\n",
       "    </tr>\n",
       "    <tr>\n",
       "      <th>50%</th>\n",
       "      <td>5.000000</td>\n",
       "      <td>1.950000</td>\n",
       "      <td>15145.000000</td>\n",
       "    </tr>\n",
       "    <tr>\n",
       "      <th>75%</th>\n",
       "      <td>12.000000</td>\n",
       "      <td>3.750000</td>\n",
       "      <td>16784.000000</td>\n",
       "    </tr>\n",
       "    <tr>\n",
       "      <th>max</th>\n",
       "      <td>80995.000000</td>\n",
       "      <td>38970.000000</td>\n",
       "      <td>18287.000000</td>\n",
       "    </tr>\n",
       "  </tbody>\n",
       "</table>\n",
       "</div>"
      ],
      "text/plain": [
       "            Quantity      UnitPrice     CustomerID\n",
       "count  401604.000000  401604.000000  401604.000000\n",
       "mean       12.183273       3.474064   15281.160818\n",
       "std       250.283037      69.764035    1714.006089\n",
       "min    -80995.000000       0.000000   12346.000000\n",
       "25%         2.000000       1.250000   13939.000000\n",
       "50%         5.000000       1.950000   15145.000000\n",
       "75%        12.000000       3.750000   16784.000000\n",
       "max     80995.000000   38970.000000   18287.000000"
      ]
     },
     "execution_count": 9,
     "metadata": {},
     "output_type": "execute_result"
    }
   ],
   "source": [
    "df.describe()"
   ]
  },
  {
   "cell_type": "markdown",
   "id": "04c82aa8-effb-44c4-8a0d-3d13b3e84b43",
   "metadata": {},
   "source": [
    "Cancelled orders have a 'InvoiceNo' code that starts with a 'C' and negative 'Quantity' values:"
   ]
  },
  {
   "cell_type": "code",
   "execution_count": 77,
   "id": "f9c3c222-d0ad-4fc1-9bca-9f7ea2e1b7f3",
   "metadata": {},
   "outputs": [
    {
     "data": {
      "text/plain": [
       "8872"
      ]
     },
     "execution_count": 77,
     "metadata": {},
     "output_type": "execute_result"
    }
   ],
   "source": [
    "df[df['Quantity']<0].shape[0]"
   ]
  },
  {
   "cell_type": "code",
   "execution_count": 78,
   "id": "e9d6486b-1d07-4eda-8335-9c798fe3927a",
   "metadata": {},
   "outputs": [
    {
     "name": "stdout",
     "output_type": "stream",
     "text": [
      "Total cancelations: 8872\n"
     ]
    }
   ],
   "source": [
    "cancelations = 0;\n",
    "\n",
    "for i in df['InvoiceNo']:\n",
    "    if i.startswith(\"C\"):\n",
    "        cancelations+=1\n",
    "        \n",
    "print(f'Total cancelations: {cancelations}')        "
   ]
  },
  {
   "cell_type": "markdown",
   "id": "705c30f7-2a5a-4397-bed2-596b6e092dc2",
   "metadata": {},
   "source": [
    "We delete those choosing only postitive values for 'Quantity':"
   ]
  },
  {
   "cell_type": "code",
   "execution_count": 79,
   "id": "13a669ca-2c20-4901-8dd0-bddec6e7d01d",
   "metadata": {},
   "outputs": [],
   "source": [
    "df = df[df['Quantity']>0]"
   ]
  },
  {
   "cell_type": "code",
   "execution_count": 82,
   "id": "b5b2d3c9-cda5-4b93-bb91-da768bf44783",
   "metadata": {},
   "outputs": [
    {
     "data": {
      "text/plain": [
       "(392732, 8)"
      ]
     },
     "execution_count": 82,
     "metadata": {},
     "output_type": "execute_result"
    }
   ],
   "source": [
    "df.shape"
   ]
  },
  {
   "cell_type": "code",
   "execution_count": 83,
   "id": "4101c6ec-ef81-4d70-86e6-027255e522ea",
   "metadata": {},
   "outputs": [
    {
     "data": {
      "text/plain": [
       "(541909, 8)"
      ]
     },
     "execution_count": 83,
     "metadata": {},
     "output_type": "execute_result"
    }
   ],
   "source": [
    "data.shape"
   ]
  },
  {
   "cell_type": "code",
   "execution_count": 84,
   "id": "a43f55d0-39f1-4fe7-84f3-c9c26bcf9f51",
   "metadata": {},
   "outputs": [
    {
     "data": {
      "text/html": [
       "<div>\n",
       "<style scoped>\n",
       "    .dataframe tbody tr th:only-of-type {\n",
       "        vertical-align: middle;\n",
       "    }\n",
       "\n",
       "    .dataframe tbody tr th {\n",
       "        vertical-align: top;\n",
       "    }\n",
       "\n",
       "    .dataframe thead th {\n",
       "        text-align: right;\n",
       "    }\n",
       "</style>\n",
       "<table border=\"1\" class=\"dataframe\">\n",
       "  <thead>\n",
       "    <tr style=\"text-align: right;\">\n",
       "      <th></th>\n",
       "      <th>InvoiceNo</th>\n",
       "      <th>StockCode</th>\n",
       "      <th>Description</th>\n",
       "      <th>Quantity</th>\n",
       "      <th>InvoiceDate</th>\n",
       "      <th>UnitPrice</th>\n",
       "      <th>CustomerID</th>\n",
       "      <th>Country</th>\n",
       "    </tr>\n",
       "  </thead>\n",
       "  <tbody>\n",
       "    <tr>\n",
       "      <th>0</th>\n",
       "      <td>536365</td>\n",
       "      <td>85123A</td>\n",
       "      <td>WHITE HANGING HEART T-LIGHT HOLDER</td>\n",
       "      <td>6</td>\n",
       "      <td>12/1/2010 8:26</td>\n",
       "      <td>2.55</td>\n",
       "      <td>17850.0</td>\n",
       "      <td>United Kingdom</td>\n",
       "    </tr>\n",
       "    <tr>\n",
       "      <th>1</th>\n",
       "      <td>536365</td>\n",
       "      <td>71053</td>\n",
       "      <td>WHITE METAL LANTERN</td>\n",
       "      <td>6</td>\n",
       "      <td>12/1/2010 8:26</td>\n",
       "      <td>3.39</td>\n",
       "      <td>17850.0</td>\n",
       "      <td>United Kingdom</td>\n",
       "    </tr>\n",
       "    <tr>\n",
       "      <th>2</th>\n",
       "      <td>536365</td>\n",
       "      <td>84406B</td>\n",
       "      <td>CREAM CUPID HEARTS COAT HANGER</td>\n",
       "      <td>8</td>\n",
       "      <td>12/1/2010 8:26</td>\n",
       "      <td>2.75</td>\n",
       "      <td>17850.0</td>\n",
       "      <td>United Kingdom</td>\n",
       "    </tr>\n",
       "    <tr>\n",
       "      <th>3</th>\n",
       "      <td>536365</td>\n",
       "      <td>84029G</td>\n",
       "      <td>KNITTED UNION FLAG HOT WATER BOTTLE</td>\n",
       "      <td>6</td>\n",
       "      <td>12/1/2010 8:26</td>\n",
       "      <td>3.39</td>\n",
       "      <td>17850.0</td>\n",
       "      <td>United Kingdom</td>\n",
       "    </tr>\n",
       "    <tr>\n",
       "      <th>4</th>\n",
       "      <td>536365</td>\n",
       "      <td>84029E</td>\n",
       "      <td>RED WOOLLY HOTTIE WHITE HEART.</td>\n",
       "      <td>6</td>\n",
       "      <td>12/1/2010 8:26</td>\n",
       "      <td>3.39</td>\n",
       "      <td>17850.0</td>\n",
       "      <td>United Kingdom</td>\n",
       "    </tr>\n",
       "    <tr>\n",
       "      <th>...</th>\n",
       "      <td>...</td>\n",
       "      <td>...</td>\n",
       "      <td>...</td>\n",
       "      <td>...</td>\n",
       "      <td>...</td>\n",
       "      <td>...</td>\n",
       "      <td>...</td>\n",
       "      <td>...</td>\n",
       "    </tr>\n",
       "    <tr>\n",
       "      <th>541904</th>\n",
       "      <td>581587</td>\n",
       "      <td>22613</td>\n",
       "      <td>PACK OF 20 SPACEBOY NAPKINS</td>\n",
       "      <td>12</td>\n",
       "      <td>12/9/2011 12:50</td>\n",
       "      <td>0.85</td>\n",
       "      <td>12680.0</td>\n",
       "      <td>France</td>\n",
       "    </tr>\n",
       "    <tr>\n",
       "      <th>541905</th>\n",
       "      <td>581587</td>\n",
       "      <td>22899</td>\n",
       "      <td>CHILDREN'S APRON DOLLY GIRL</td>\n",
       "      <td>6</td>\n",
       "      <td>12/9/2011 12:50</td>\n",
       "      <td>2.10</td>\n",
       "      <td>12680.0</td>\n",
       "      <td>France</td>\n",
       "    </tr>\n",
       "    <tr>\n",
       "      <th>541906</th>\n",
       "      <td>581587</td>\n",
       "      <td>23254</td>\n",
       "      <td>CHILDRENS CUTLERY DOLLY GIRL</td>\n",
       "      <td>4</td>\n",
       "      <td>12/9/2011 12:50</td>\n",
       "      <td>4.15</td>\n",
       "      <td>12680.0</td>\n",
       "      <td>France</td>\n",
       "    </tr>\n",
       "    <tr>\n",
       "      <th>541907</th>\n",
       "      <td>581587</td>\n",
       "      <td>23255</td>\n",
       "      <td>CHILDRENS CUTLERY CIRCUS PARADE</td>\n",
       "      <td>4</td>\n",
       "      <td>12/9/2011 12:50</td>\n",
       "      <td>4.15</td>\n",
       "      <td>12680.0</td>\n",
       "      <td>France</td>\n",
       "    </tr>\n",
       "    <tr>\n",
       "      <th>541908</th>\n",
       "      <td>581587</td>\n",
       "      <td>22138</td>\n",
       "      <td>BAKING SET 9 PIECE RETROSPOT</td>\n",
       "      <td>3</td>\n",
       "      <td>12/9/2011 12:50</td>\n",
       "      <td>4.95</td>\n",
       "      <td>12680.0</td>\n",
       "      <td>France</td>\n",
       "    </tr>\n",
       "  </tbody>\n",
       "</table>\n",
       "<p>392732 rows × 8 columns</p>\n",
       "</div>"
      ],
      "text/plain": [
       "       InvoiceNo StockCode                          Description  Quantity  \\\n",
       "0         536365    85123A   WHITE HANGING HEART T-LIGHT HOLDER         6   \n",
       "1         536365     71053                  WHITE METAL LANTERN         6   \n",
       "2         536365    84406B       CREAM CUPID HEARTS COAT HANGER         8   \n",
       "3         536365    84029G  KNITTED UNION FLAG HOT WATER BOTTLE         6   \n",
       "4         536365    84029E       RED WOOLLY HOTTIE WHITE HEART.         6   \n",
       "...          ...       ...                                  ...       ...   \n",
       "541904    581587     22613          PACK OF 20 SPACEBOY NAPKINS        12   \n",
       "541905    581587     22899         CHILDREN'S APRON DOLLY GIRL          6   \n",
       "541906    581587     23254        CHILDRENS CUTLERY DOLLY GIRL          4   \n",
       "541907    581587     23255      CHILDRENS CUTLERY CIRCUS PARADE         4   \n",
       "541908    581587     22138        BAKING SET 9 PIECE RETROSPOT          3   \n",
       "\n",
       "            InvoiceDate  UnitPrice  CustomerID         Country  \n",
       "0        12/1/2010 8:26       2.55     17850.0  United Kingdom  \n",
       "1        12/1/2010 8:26       3.39     17850.0  United Kingdom  \n",
       "2        12/1/2010 8:26       2.75     17850.0  United Kingdom  \n",
       "3        12/1/2010 8:26       3.39     17850.0  United Kingdom  \n",
       "4        12/1/2010 8:26       3.39     17850.0  United Kingdom  \n",
       "...                 ...        ...         ...             ...  \n",
       "541904  12/9/2011 12:50       0.85     12680.0          France  \n",
       "541905  12/9/2011 12:50       2.10     12680.0          France  \n",
       "541906  12/9/2011 12:50       4.15     12680.0          France  \n",
       "541907  12/9/2011 12:50       4.15     12680.0          France  \n",
       "541908  12/9/2011 12:50       4.95     12680.0          France  \n",
       "\n",
       "[392732 rows x 8 columns]"
      ]
     },
     "execution_count": 84,
     "metadata": {},
     "output_type": "execute_result"
    }
   ],
   "source": [
    "df"
   ]
  },
  {
   "cell_type": "code",
   "execution_count": 90,
   "id": "1ec02e3e-ef14-4b68-a13f-ce37875b4259",
   "metadata": {},
   "outputs": [
    {
     "data": {
      "text/html": [
       "<div>\n",
       "<style scoped>\n",
       "    .dataframe tbody tr th:only-of-type {\n",
       "        vertical-align: middle;\n",
       "    }\n",
       "\n",
       "    .dataframe tbody tr th {\n",
       "        vertical-align: top;\n",
       "    }\n",
       "\n",
       "    .dataframe thead th {\n",
       "        text-align: right;\n",
       "    }\n",
       "</style>\n",
       "<table border=\"1\" class=\"dataframe\">\n",
       "  <thead>\n",
       "    <tr style=\"text-align: right;\">\n",
       "      <th></th>\n",
       "      <th>InvoiceNo</th>\n",
       "      <th>StockCode</th>\n",
       "      <th>Description</th>\n",
       "      <th>Quantity</th>\n",
       "      <th>InvoiceDate</th>\n",
       "      <th>UnitPrice</th>\n",
       "      <th>CustomerID</th>\n",
       "      <th>Country</th>\n",
       "    </tr>\n",
       "  </thead>\n",
       "  <tbody>\n",
       "  </tbody>\n",
       "</table>\n",
       "</div>"
      ],
      "text/plain": [
       "Empty DataFrame\n",
       "Columns: [InvoiceNo, StockCode, Description, Quantity, InvoiceDate, UnitPrice, CustomerID, Country]\n",
       "Index: []"
      ]
     },
     "execution_count": 90,
     "metadata": {},
     "output_type": "execute_result"
    }
   ],
   "source": [
    "df[df['Description']=='']"
   ]
  },
  {
   "cell_type": "code",
   "execution_count": null,
   "id": "2238cbab-4a5d-4e48-8ca7-f6e55661518e",
   "metadata": {},
   "outputs": [],
   "source": []
  }
 ],
 "metadata": {
  "kernelspec": {
   "display_name": "Python 3 (ipykernel)",
   "language": "python",
   "name": "python3"
  },
  "language_info": {
   "codemirror_mode": {
    "name": "ipython",
    "version": 3
   },
   "file_extension": ".py",
   "mimetype": "text/x-python",
   "name": "python",
   "nbconvert_exporter": "python",
   "pygments_lexer": "ipython3",
   "version": "3.11.3"
  }
 },
 "nbformat": 4,
 "nbformat_minor": 5
}
